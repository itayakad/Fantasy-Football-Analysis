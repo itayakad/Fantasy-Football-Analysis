{
 "cells": [
  {
   "cell_type": "markdown",
   "metadata": {},
   "source": [
    "Designing the Algorithm"
   ]
  },
  {
   "cell_type": "code",
   "execution_count": 24,
   "metadata": {},
   "outputs": [],
   "source": [
    "import pandas as pd\n",
    "import numpy as np\n",
    "import matplotlib.pyplot as plt\n",
    "from sklearn.model_selection import train_test_split\n",
    "from sklearn.linear_model import LinearRegression\n",
    "from sklearn.metrics import mean_squared_error, r2_score"
   ]
  },
  {
   "cell_type": "code",
   "execution_count": 25,
   "metadata": {},
   "outputs": [
    {
     "name": "stdout",
     "output_type": "stream",
     "text": [
      "ppr_ppg                        1.000000\n",
      "ypg                            0.952677\n",
      "fantasy_points_ppr             0.908767\n",
      "total_yards                    0.889715\n",
      "total_tds                      0.834190\n",
      "receiving_yards_after_catch    0.818325\n",
      "receptions                     0.805404\n",
      "rec_ypg                        0.784015\n",
      "targets                        0.772262\n",
      "target_share                   0.770296\n",
      "receiving_yards                0.762716\n",
      "receiving_first_downs          0.747934\n",
      "offense_snaps                  0.733822\n",
      "offense_pct                    0.717520\n",
      "touches                        0.696904\n",
      "receiving_tds                  0.677990\n",
      "teams_offense_snaps            0.598212\n",
      "games                          0.595047\n",
      "receiving_air_yards            0.563552\n",
      "air_yards_share                0.479453\n",
      "rushing_tds                    0.463643\n",
      "rushing_first_downs            0.463389\n",
      "rushing_yards                  0.460348\n",
      "carries                        0.443148\n",
      "rush_ypg                       0.439123\n",
      "receiving_fumbles              0.370590\n",
      "rushing_fumbles                0.310797\n",
      "receiving_fumbles_lost         0.283090\n",
      "yps                            0.265511\n",
      "rushing_fumbles_lost           0.256450\n",
      "ypr                            0.251556\n",
      "receiving_2pt_conversions      0.224671\n",
      "ypc                            0.203463\n",
      "ppr_fp_ps                      0.191136\n",
      "td_percentage                  0.179455\n",
      "rushing_2pt_conversions        0.177285\n",
      "rec_td_percentage              0.168465\n",
      "ypa                            0.115283\n",
      "rush_td_percentage             0.110365\n",
      "years_played                   0.007372\n",
      "season                        -0.026691\n",
      "Name: ppr_ppg, dtype: float64\n"
     ]
    }
   ],
   "source": [
    "flex_data_path = '/Users/itayakad/Desktop/nfl_data/oy_flex.csv'\n",
    "flex_data = pd.read_csv(flex_data_path)\n",
    "# Select only numeric columns\n",
    "numeric_columns = flex_data.select_dtypes(include=['number'])\n",
    "# Calculate correlation of each column with ppr_ppg\n",
    "correlation = numeric_columns.corr()\n",
    "ppr_ppg_correlation = correlation['ppr_ppg'].sort_values(ascending=False)\n",
    "print(ppr_ppg_correlation)"
   ]
  },
  {
   "cell_type": "code",
   "execution_count": 26,
   "metadata": {},
   "outputs": [
    {
     "name": "stdout",
     "output_type": "stream",
     "text": [
      "Mean Squared Error: 0.8582478914043316\n",
      "R-squared: 0.9666406095226697\n"
     ]
    }
   ],
   "source": [
    "# Using the top correlated features\n",
    "top_features = ['ypg', 'total_yards', 'total_tds', 'receiving_yards_after_catch', 'receptions']\n",
    "X = numeric_columns[top_features]\n",
    "y = numeric_columns['ppr_ppg']\n",
    "# Split the data into training and testing sets\n",
    "X_train, X_test, y_train, y_test = train_test_split(X, y, test_size=0.2, random_state=42)\n",
    "# Train a linear regression model\n",
    "model = LinearRegression()\n",
    "model.fit(X_train, y_train)\n",
    "# Make predictions\n",
    "y_pred = model.predict(X_test)\n",
    "\n",
    "# Evaluate the model\n",
    "mse = mean_squared_error(y_test, y_pred)\n",
    "r2 = r2_score(y_test, y_pred)\n",
    "print(f\"Mean Squared Error: {mse}\")\n",
    "print(f\"R-squared: {r2}\")\n",
    "\n"
   ]
  },
  {
   "cell_type": "markdown",
   "metadata": {},
   "source": [
    "Testing the Algorithm"
   ]
  },
  {
   "cell_type": "code",
   "execution_count": 27,
   "metadata": {},
   "outputs": [
    {
     "name": "stdout",
     "output_type": "stream",
     "text": [
      "Projected 2015 leaders based on 2014's stats:\n",
      "    Rank       Name (proj)  Proj PPR PPG\n",
      "0      1     Antonio Brown     24.376727\n",
      "1      2      Le'Veon Bell     22.080346\n",
      "2      3    DeMarco Murray     21.304719\n",
      "3      4        Matt Forte     21.180766\n",
      "4      5  Demaryius Thomas     21.167179\n",
      "5      6      Jordy Nelson     20.742358\n",
      "6      7        Dez Bryant     20.611707\n",
      "7      8    Marshawn Lynch     19.246066\n",
      "8      9       Julio Jones     19.193651\n",
      "9     10      Randall Cobb     18.941958\n",
      "10    11  Emmanuel Sanders     18.502543\n",
      "11    12    Rob Gronkowski     18.191705\n",
      "12    13     Jeremy Maclin     17.437500\n",
      "13    14    Jamaal Charles     17.303793\n",
      "14    15        Eddie Lacy     17.106559\n",
      "15    16    Calvin Johnson     17.030563\n",
      "16    17        A.J. Green     16.921561\n",
      "17    18       T.Y. Hilton     16.878328\n",
      "18    19   Adrian Peterson     16.775572\n",
      "19    20    Alshon Jeffery     16.730377\n"
     ]
    }
   ],
   "source": [
    "def predict_next_year(train_year):\n",
    "    # Filter data for the specified training season\n",
    "    data_train = flex_data[flex_data['season'] == train_year]\n",
    "\n",
    "    # Select only numeric columns for the training data\n",
    "    numeric_columns_train = data_train.select_dtypes(include=['number'])\n",
    "\n",
    "    # Select the top correlated features for training data\n",
    "    top_features = ['ypg', 'total_yards', 'total_tds', 'receiving_yards_after_catch', 'receptions']\n",
    "    X_train = numeric_columns_train[top_features]\n",
    "    y_train = numeric_columns_train['ppr_ppg']\n",
    "\n",
    "    # Train the model using the training season data\n",
    "    model = LinearRegression()\n",
    "    model.fit(X_train, y_train)\n",
    "\n",
    "    # Use the trained model to predict the next season's PPR PPG\n",
    "    data_predict = data_train.copy()  # We'll use the same players from the training year for predictions\n",
    "    data_predict['predicted_ppr_ppg'] = model.predict(X_train)\n",
    "\n",
    "    # Identify the top 20 players based on predicted PPR PPG for the next season\n",
    "    top_20_predicted = data_predict[['name', 'predicted_ppr_ppg']].sort_values(by='predicted_ppr_ppg', ascending=False).head(20).reset_index(drop=True)\n",
    "    top_20_predicted['predicted_rank'] = range(1, 21)\n",
    "\n",
    "    # Create a results DataFrame\n",
    "    combined_results = pd.DataFrame({\n",
    "        'Rank': range(1, 21),\n",
    "        'Name (proj)': top_20_predicted['name'],\n",
    "        'Proj PPR PPG': top_20_predicted['predicted_ppr_ppg']\n",
    "    })\n",
    "\n",
    "    # Display the results\n",
    "    print(f\"Projected {train_year + 1} leaders based on {train_year}'s stats:\")\n",
    "    print(combined_results)\n",
    "\n",
    "# Predict the best players for next year (2024) based on this year's data (2023)\n",
    "predict_next_year(2014)\n"
   ]
  }
 ],
 "metadata": {
  "kernelspec": {
   "display_name": "Python 3",
   "language": "python",
   "name": "python3"
  },
  "language_info": {
   "codemirror_mode": {
    "name": "ipython",
    "version": 3
   },
   "file_extension": ".py",
   "mimetype": "text/x-python",
   "name": "python",
   "nbconvert_exporter": "python",
   "pygments_lexer": "ipython3",
   "version": "3.12.3"
  }
 },
 "nbformat": 4,
 "nbformat_minor": 2
}
